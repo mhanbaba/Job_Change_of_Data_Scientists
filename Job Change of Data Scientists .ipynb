{
 "cells": [
  {
   "cell_type": "markdown",
   "id": "a78f860b-092e-4b91-a67c-a616829d769b",
   "metadata": {},
   "source": [
    "# HR Analytics: Job Change of Data Scientists"
   ]
  },
  {
   "cell_type": "markdown",
   "id": "42ffc2d9-259f-4fc4-b8bd-ea14bb045e0d",
   "metadata": {
    "tags": []
   },
   "source": [
    "## About Dataset\n",
    "A company which is active in Big Data and Data Science wants to hire data scientists among people who successfully pass some courses which conduct by the company. Many people signup for their training. Company wants to know which of these candidates are really wants to work for the company after training or looking for a new employment because it helps to reduce the cost and time as well as the quality of training or planning the courses and categorization of candidates. Information related to demographics, education, experience are in hands from candidates signup and enrollment."
   ]
  },
  {
   "cell_type": "code",
   "execution_count": 1,
   "id": "f188195a-b635-4f00-834d-92ebe378bf22",
   "metadata": {},
   "outputs": [],
   "source": [
    "import pandas as pd\n",
    "import seaborn as sns\n",
    "from matplotlib import pyplot as plt\n",
    "from sklearn.ensemble import RandomForestClassifier, GradientBoostingClassifier, VotingClassifier, AdaBoostClassifier\n",
    "from sklearn.linear_model import LogisticRegression\n",
    "from sklearn.model_selection import cross_validate, GridSearchCV\n",
    "from sklearn.neighbors import KNeighborsClassifier\n",
    "from sklearn.svm import SVC\n",
    "from sklearn.tree import DecisionTreeClassifier\n",
    "from sklearn.preprocessing import StandardScaler"
   ]
  },
  {
   "cell_type": "code",
   "execution_count": 2,
   "id": "347a3a11-009c-4d6f-815f-f2321520735f",
   "metadata": {
    "collapsed": true,
    "jupyter": {
     "outputs_hidden": true
    },
    "tags": []
   },
   "outputs": [
    {
     "name": "stdout",
     "output_type": "stream",
     "text": [
      "Requirement already satisfied: catboost in c:\\users\\muhammedhanbaba\\anaconda3\\lib\\site-packages (1.0.6)\n",
      "Requirement already satisfied: graphviz in c:\\users\\muhammedhanbaba\\anaconda3\\lib\\site-packages (from catboost) (0.20.1)\n",
      "Requirement already satisfied: plotly in c:\\users\\muhammedhanbaba\\anaconda3\\lib\\site-packages (from catboost) (5.10.0)\n",
      "Requirement already satisfied: scipy in c:\\users\\muhammedhanbaba\\anaconda3\\lib\\site-packages (from catboost) (1.7.1)\n",
      "Requirement already satisfied: six in c:\\users\\muhammedhanbaba\\anaconda3\\lib\\site-packages (from catboost) (1.16.0)\n",
      "Requirement already satisfied: pandas>=0.24.0 in c:\\users\\muhammedhanbaba\\anaconda3\\lib\\site-packages (from catboost) (1.3.4)\n",
      "Requirement already satisfied: numpy>=1.16.0 in c:\\users\\muhammedhanbaba\\anaconda3\\lib\\site-packages (from catboost) (1.20.3)\n",
      "Requirement already satisfied: matplotlib in c:\\users\\muhammedhanbaba\\anaconda3\\lib\\site-packages (from catboost) (3.4.3)\n",
      "Requirement already satisfied: python-dateutil>=2.7.3 in c:\\users\\muhammedhanbaba\\anaconda3\\lib\\site-packages (from pandas>=0.24.0->catboost) (2.8.2)\n",
      "Requirement already satisfied: pytz>=2017.3 in c:\\users\\muhammedhanbaba\\anaconda3\\lib\\site-packages (from pandas>=0.24.0->catboost) (2021.3)\n",
      "Requirement already satisfied: pillow>=6.2.0 in c:\\users\\muhammedhanbaba\\anaconda3\\lib\\site-packages (from matplotlib->catboost) (8.4.0)\n",
      "Requirement already satisfied: pyparsing>=2.2.1 in c:\\users\\muhammedhanbaba\\anaconda3\\lib\\site-packages (from matplotlib->catboost) (3.0.4)\n",
      "Requirement already satisfied: kiwisolver>=1.0.1 in c:\\users\\muhammedhanbaba\\anaconda3\\lib\\site-packages (from matplotlib->catboost) (1.3.1)\n",
      "Requirement already satisfied: cycler>=0.10 in c:\\users\\muhammedhanbaba\\anaconda3\\lib\\site-packages (from matplotlib->catboost) (0.10.0)\n",
      "Requirement already satisfied: tenacity>=6.2.0 in c:\\users\\muhammedhanbaba\\anaconda3\\lib\\site-packages (from plotly->catboost) (8.0.1)\n",
      "Requirement already satisfied: lightgbm in c:\\users\\muhammedhanbaba\\anaconda3\\lib\\site-packages (3.3.2)\n",
      "Requirement already satisfied: scipy in c:\\users\\muhammedhanbaba\\anaconda3\\lib\\site-packages (from lightgbm) (1.7.1)\n",
      "Requirement already satisfied: wheel in c:\\users\\muhammedhanbaba\\anaconda3\\lib\\site-packages (from lightgbm) (0.37.0)\n",
      "Requirement already satisfied: numpy in c:\\users\\muhammedhanbaba\\anaconda3\\lib\\site-packages (from lightgbm) (1.20.3)\n",
      "Requirement already satisfied: scikit-learn!=0.22.0 in c:\\users\\muhammedhanbaba\\anaconda3\\lib\\site-packages (from lightgbm) (0.24.2)\n",
      "Requirement already satisfied: joblib>=0.11 in c:\\users\\muhammedhanbaba\\anaconda3\\lib\\site-packages (from scikit-learn!=0.22.0->lightgbm) (1.1.0)\n",
      "Requirement already satisfied: threadpoolctl>=2.0.0 in c:\\users\\muhammedhanbaba\\anaconda3\\lib\\site-packages (from scikit-learn!=0.22.0->lightgbm) (2.2.0)\n",
      "Requirement already satisfied: xgboost in c:\\users\\muhammedhanbaba\\anaconda3\\lib\\site-packages (1.6.1)\n",
      "Requirement already satisfied: numpy in c:\\users\\muhammedhanbaba\\anaconda3\\lib\\site-packages (from xgboost) (1.20.3)\n",
      "Requirement already satisfied: scipy in c:\\users\\muhammedhanbaba\\anaconda3\\lib\\site-packages (from xgboost) (1.7.1)\n"
     ]
    }
   ],
   "source": [
    "!pip install catboost\n",
    "!pip install lightgbm\n",
    "!pip install xgboost"
   ]
  },
  {
   "cell_type": "code",
   "execution_count": 3,
   "id": "1c25d627-7064-49f0-9dab-99a640ded1de",
   "metadata": {},
   "outputs": [],
   "source": [
    "from xgboost import XGBClassifier\n",
    "from lightgbm import LGBMClassifier\n",
    "from catboost import CatBoostClassifier"
   ]
  },
  {
   "cell_type": "code",
   "execution_count": 116,
   "id": "18f53e94-3aa4-4152-bea6-381007fd316e",
   "metadata": {},
   "outputs": [],
   "source": [
    "df=pd.read_csv(r\"C:\\Users\\muhammedhanbaba\\OneDrive - Ege Üniversitesi\\Masaüstü\\Yeni klasör\\hranalytics.csv\")"
   ]
  },
  {
   "cell_type": "code",
   "execution_count": 5,
   "id": "c0b32ecb-c44d-47b1-81f0-13e4ea514723",
   "metadata": {},
   "outputs": [
    {
     "data": {
      "text/html": [
       "<div>\n",
       "<style scoped>\n",
       "    .dataframe tbody tr th:only-of-type {\n",
       "        vertical-align: middle;\n",
       "    }\n",
       "\n",
       "    .dataframe tbody tr th {\n",
       "        vertical-align: top;\n",
       "    }\n",
       "\n",
       "    .dataframe thead th {\n",
       "        text-align: right;\n",
       "    }\n",
       "</style>\n",
       "<table border=\"1\" class=\"dataframe\">\n",
       "  <thead>\n",
       "    <tr style=\"text-align: right;\">\n",
       "      <th></th>\n",
       "      <th>enrollee_id</th>\n",
       "      <th>city</th>\n",
       "      <th>city_development_index</th>\n",
       "      <th>gender</th>\n",
       "      <th>relevent_experience</th>\n",
       "      <th>enrolled_university</th>\n",
       "      <th>education_level</th>\n",
       "      <th>major_discipline</th>\n",
       "      <th>experience</th>\n",
       "      <th>company_size</th>\n",
       "      <th>company_type</th>\n",
       "      <th>last_new_job</th>\n",
       "      <th>training_hours</th>\n",
       "      <th>target</th>\n",
       "    </tr>\n",
       "  </thead>\n",
       "  <tbody>\n",
       "    <tr>\n",
       "      <th>0</th>\n",
       "      <td>8949</td>\n",
       "      <td>city_103</td>\n",
       "      <td>0.920</td>\n",
       "      <td>Male</td>\n",
       "      <td>Has relevent experience</td>\n",
       "      <td>no_enrollment</td>\n",
       "      <td>Graduate</td>\n",
       "      <td>STEM</td>\n",
       "      <td>&gt;20</td>\n",
       "      <td>NaN</td>\n",
       "      <td>NaN</td>\n",
       "      <td>1</td>\n",
       "      <td>36</td>\n",
       "      <td>1.0</td>\n",
       "    </tr>\n",
       "    <tr>\n",
       "      <th>1</th>\n",
       "      <td>29725</td>\n",
       "      <td>city_40</td>\n",
       "      <td>0.776</td>\n",
       "      <td>Male</td>\n",
       "      <td>No relevent experience</td>\n",
       "      <td>no_enrollment</td>\n",
       "      <td>Graduate</td>\n",
       "      <td>STEM</td>\n",
       "      <td>15</td>\n",
       "      <td>50-99</td>\n",
       "      <td>Pvt Ltd</td>\n",
       "      <td>&gt;4</td>\n",
       "      <td>47</td>\n",
       "      <td>0.0</td>\n",
       "    </tr>\n",
       "    <tr>\n",
       "      <th>2</th>\n",
       "      <td>11561</td>\n",
       "      <td>city_21</td>\n",
       "      <td>0.624</td>\n",
       "      <td>NaN</td>\n",
       "      <td>No relevent experience</td>\n",
       "      <td>Full time course</td>\n",
       "      <td>Graduate</td>\n",
       "      <td>STEM</td>\n",
       "      <td>5</td>\n",
       "      <td>NaN</td>\n",
       "      <td>NaN</td>\n",
       "      <td>never</td>\n",
       "      <td>83</td>\n",
       "      <td>0.0</td>\n",
       "    </tr>\n",
       "    <tr>\n",
       "      <th>3</th>\n",
       "      <td>33241</td>\n",
       "      <td>city_115</td>\n",
       "      <td>0.789</td>\n",
       "      <td>NaN</td>\n",
       "      <td>No relevent experience</td>\n",
       "      <td>NaN</td>\n",
       "      <td>Graduate</td>\n",
       "      <td>Business Degree</td>\n",
       "      <td>&lt;1</td>\n",
       "      <td>NaN</td>\n",
       "      <td>Pvt Ltd</td>\n",
       "      <td>never</td>\n",
       "      <td>52</td>\n",
       "      <td>1.0</td>\n",
       "    </tr>\n",
       "    <tr>\n",
       "      <th>4</th>\n",
       "      <td>666</td>\n",
       "      <td>city_162</td>\n",
       "      <td>0.767</td>\n",
       "      <td>Male</td>\n",
       "      <td>Has relevent experience</td>\n",
       "      <td>no_enrollment</td>\n",
       "      <td>Masters</td>\n",
       "      <td>STEM</td>\n",
       "      <td>&gt;20</td>\n",
       "      <td>50-99</td>\n",
       "      <td>Funded Startup</td>\n",
       "      <td>4</td>\n",
       "      <td>8</td>\n",
       "      <td>0.0</td>\n",
       "    </tr>\n",
       "  </tbody>\n",
       "</table>\n",
       "</div>"
      ],
      "text/plain": [
       "   enrollee_id      city  city_development_index gender  \\\n",
       "0         8949  city_103                   0.920   Male   \n",
       "1        29725   city_40                   0.776   Male   \n",
       "2        11561   city_21                   0.624    NaN   \n",
       "3        33241  city_115                   0.789    NaN   \n",
       "4          666  city_162                   0.767   Male   \n",
       "\n",
       "       relevent_experience enrolled_university education_level  \\\n",
       "0  Has relevent experience       no_enrollment        Graduate   \n",
       "1   No relevent experience       no_enrollment        Graduate   \n",
       "2   No relevent experience    Full time course        Graduate   \n",
       "3   No relevent experience                 NaN        Graduate   \n",
       "4  Has relevent experience       no_enrollment         Masters   \n",
       "\n",
       "  major_discipline experience company_size    company_type last_new_job  \\\n",
       "0             STEM        >20          NaN             NaN            1   \n",
       "1             STEM         15        50-99         Pvt Ltd           >4   \n",
       "2             STEM          5          NaN             NaN        never   \n",
       "3  Business Degree         <1          NaN         Pvt Ltd        never   \n",
       "4             STEM        >20        50-99  Funded Startup            4   \n",
       "\n",
       "   training_hours  target  \n",
       "0              36     1.0  \n",
       "1              47     0.0  \n",
       "2              83     0.0  \n",
       "3              52     1.0  \n",
       "4               8     0.0  "
      ]
     },
     "execution_count": 5,
     "metadata": {},
     "output_type": "execute_result"
    }
   ],
   "source": [
    "df.head()"
   ]
  },
  {
   "cell_type": "markdown",
   "id": "d681bcb4-c40b-46ee-81d5-cf18016175d1",
   "metadata": {},
   "source": [
    "## Features\n",
    "\n",
    "\n",
    "**enrollee_id** : Unique ID for candidate\n",
    "\n",
    "**city**: City code\n",
    "\n",
    "**city_ development _index** : Developement index of the city (scaled)\n",
    "\n",
    "**gender**: Gender of candidate\n",
    "\n",
    "**relevent_experience**: Relevant experience of candidate\n",
    "\n",
    "**enrolled_university**: Type of University course enrolled if any\n",
    "\n",
    "**education_level**: Education level of candidate\n",
    "\n",
    "**major_discipline** :Education major discipline of candidate\n",
    "\n",
    "**experience**: Candidate total experience in years\n",
    "\n",
    "**company_size**: No of employees in current employer's company\n",
    "\n",
    "**company_type** : Type of current employer\n",
    "\n",
    "**lastnewjob**: Difference in years between previous job and current job\n",
    "\n",
    "**training_hours**: training hours completed\n",
    "\n",
    "**target**: 0 – Not looking for job change, 1 – Looking for a job change"
   ]
  },
  {
   "cell_type": "code",
   "execution_count": 6,
   "id": "1a713b95-efe8-4047-ba23-1397bdc5d1ff",
   "metadata": {},
   "outputs": [],
   "source": [
    "def check_df(dataframe, head=5):\n",
    "    print(\"##################### Shape #####################\")\n",
    "    print(dataframe.shape)\n",
    "    print(\"##################### Types #####################\")\n",
    "    print(dataframe.dtypes)\n",
    "    print(\"##################### Head #####################\")\n",
    "    print(dataframe.head(head))\n",
    "    print(\"##################### NA #####################\")\n",
    "    print(dataframe.isnull().sum())\n",
    "    print(\"##################### Quantiles #####################\")\n",
    "    print(dataframe.quantile([0, 0.05, 0.50, 0.95, 0.99, 1]).T)"
   ]
  },
  {
   "cell_type": "code",
   "execution_count": 7,
   "id": "da15adfd-2e9a-43d7-8d86-7b9a339bc653",
   "metadata": {},
   "outputs": [
    {
     "name": "stdout",
     "output_type": "stream",
     "text": [
      "##################### Shape #####################\n",
      "(19158, 14)\n",
      "##################### Types #####################\n",
      "enrollee_id                 int64\n",
      "city                       object\n",
      "city_development_index    float64\n",
      "gender                     object\n",
      "relevent_experience        object\n",
      "enrolled_university        object\n",
      "education_level            object\n",
      "major_discipline           object\n",
      "experience                 object\n",
      "company_size               object\n",
      "company_type               object\n",
      "last_new_job               object\n",
      "training_hours              int64\n",
      "target                    float64\n",
      "dtype: object\n",
      "##################### Head #####################\n",
      "   enrollee_id      city  city_development_index gender  \\\n",
      "0         8949  city_103                   0.920   Male   \n",
      "1        29725   city_40                   0.776   Male   \n",
      "2        11561   city_21                   0.624    NaN   \n",
      "3        33241  city_115                   0.789    NaN   \n",
      "4          666  city_162                   0.767   Male   \n",
      "\n",
      "       relevent_experience enrolled_university education_level  \\\n",
      "0  Has relevent experience       no_enrollment        Graduate   \n",
      "1   No relevent experience       no_enrollment        Graduate   \n",
      "2   No relevent experience    Full time course        Graduate   \n",
      "3   No relevent experience                 NaN        Graduate   \n",
      "4  Has relevent experience       no_enrollment         Masters   \n",
      "\n",
      "  major_discipline experience company_size    company_type last_new_job  \\\n",
      "0             STEM        >20          NaN             NaN            1   \n",
      "1             STEM         15        50-99         Pvt Ltd           >4   \n",
      "2             STEM          5          NaN             NaN        never   \n",
      "3  Business Degree         <1          NaN         Pvt Ltd        never   \n",
      "4             STEM        >20        50-99  Funded Startup            4   \n",
      "\n",
      "   training_hours  target  \n",
      "0              36     1.0  \n",
      "1              47     0.0  \n",
      "2              83     0.0  \n",
      "3              52     1.0  \n",
      "4               8     0.0  \n",
      "##################### NA #####################\n",
      "enrollee_id                  0\n",
      "city                         0\n",
      "city_development_index       0\n",
      "gender                    4508\n",
      "relevent_experience          0\n",
      "enrolled_university        386\n",
      "education_level            460\n",
      "major_discipline          2813\n",
      "experience                  65\n",
      "company_size              5938\n",
      "company_type              6140\n",
      "last_new_job               423\n",
      "training_hours               0\n",
      "target                       0\n",
      "dtype: int64\n",
      "##################### Quantiles #####################\n",
      "                         0.00      0.05       0.50       0.95       0.99  \\\n",
      "enrollee_id             1.000  1782.850  16982.500  31782.150  33088.290   \n",
      "city_development_index  0.448     0.624      0.903      0.926      0.939   \n",
      "training_hours          1.000     7.000     47.000    188.000    302.000   \n",
      "target                  0.000     0.000      0.000      1.000      1.000   \n",
      "\n",
      "                             1.00  \n",
      "enrollee_id             33380.000  \n",
      "city_development_index      0.949  \n",
      "training_hours            336.000  \n",
      "target                      1.000  \n"
     ]
    }
   ],
   "source": [
    "check_df(df)"
   ]
  },
  {
   "cell_type": "code",
   "execution_count": 8,
   "id": "dc95c5f5-b2db-4f66-a7ef-817b4306f66d",
   "metadata": {},
   "outputs": [
    {
     "data": {
      "text/plain": [
       "enrollee_id                  0\n",
       "city                         0\n",
       "city_development_index       0\n",
       "gender                    4508\n",
       "relevent_experience          0\n",
       "enrolled_university        386\n",
       "education_level            460\n",
       "major_discipline          2813\n",
       "experience                  65\n",
       "company_size              5938\n",
       "company_type              6140\n",
       "last_new_job               423\n",
       "training_hours               0\n",
       "target                       0\n",
       "dtype: int64"
      ]
     },
     "execution_count": 8,
     "metadata": {},
     "output_type": "execute_result"
    }
   ],
   "source": [
    "df.isna().sum()"
   ]
  },
  {
   "cell_type": "code",
   "execution_count": 9,
   "id": "488ae210-4d69-44a9-9436-79dd5da76210",
   "metadata": {},
   "outputs": [],
   "source": [
    "df.replace(to_replace = 'Has relevent experience',value = 'Yes',inplace = True)\n",
    "df.replace(to_replace = 'No relevent experience',value='No',inplace = True )\n",
    "\n",
    "df.replace(to_replace = '<1',value = '0',inplace = True)\n",
    "df.replace(to_replace = '>20',value = '21',inplace=True)\n",
    "df.replace(to_replace = 'never',value = '0',inplace=True)\n",
    "df.replace(to_replace = '>4',value = '5',inplace=True)\n",
    "\n",
    "df.replace(to_replace = '<10',value = 'around_10',inplace=True)\n",
    "df.replace(to_replace = '10/49',value = 'around_50',inplace=True)\n",
    "df.replace(to_replace = '50-99',value = 'around_100',inplace=True)\n",
    "df.replace(to_replace = '100-500',value = 'around_500',inplace=True)\n",
    "df.replace(to_replace = '500-999',value = 'around_1000',inplace=True)\n",
    "df.replace(to_replace = '1000-4999',value = 'around_5000',inplace=True)\n",
    "df.replace(to_replace = '5000-9999',value = 'around_10000',inplace=True)\n",
    "df.replace(to_replace = '10000+',value = 'more_than_10000',inplace=True)\n",
    "\n",
    "df.replace(to_replace = 'Full time course',value = 'Full_time_course',inplace=True)\n",
    "df.replace(to_replace = 'Part time course',value = 'Part_time_course',inplace=True)\n",
    "\n",
    "df.replace(to_replace = 'Primary School',value = 'Primary_School',inplace=True)\n",
    "df.replace(to_replace = 'High School',value = 'High_School',inplace=True)\n",
    "\n",
    "df.replace(to_replace = 'Business Degree',value = 'Business_Degree',inplace=True)\n",
    "df.replace(to_replace = 'No Major',value = 'No_Major',inplace=True)\n",
    "\n",
    "df.replace(to_replace = 'Pvt Ltd',value = 'Pvt_Ltd',inplace=True)\n",
    "df.replace(to_replace = 'Funded Startup',value = 'Funded_Startup',inplace=True)\n",
    "df.replace(to_replace = 'Public Sector',value = 'Public_Sector',inplace=True)\n",
    "df.replace(to_replace = 'Early Stage Startup',value = 'Early_Stage_Startup',inplace=True)\n",
    "\n",
    "df['major_discipline'].replace('Other','Other_major',inplace=True)\n",
    "df['company_type'].replace('Other','Other_type',inplace=True)"
   ]
  },
  {
   "cell_type": "code",
   "execution_count": 10,
   "id": "4268d3e8-39be-4f25-9df4-3d250dc4f4a7",
   "metadata": {},
   "outputs": [
    {
     "data": {
      "text/html": [
       "<div>\n",
       "<style scoped>\n",
       "    .dataframe tbody tr th:only-of-type {\n",
       "        vertical-align: middle;\n",
       "    }\n",
       "\n",
       "    .dataframe tbody tr th {\n",
       "        vertical-align: top;\n",
       "    }\n",
       "\n",
       "    .dataframe thead th {\n",
       "        text-align: right;\n",
       "    }\n",
       "</style>\n",
       "<table border=\"1\" class=\"dataframe\">\n",
       "  <thead>\n",
       "    <tr style=\"text-align: right;\">\n",
       "      <th></th>\n",
       "      <th>enrollee_id</th>\n",
       "      <th>city</th>\n",
       "      <th>city_development_index</th>\n",
       "      <th>gender</th>\n",
       "      <th>relevent_experience</th>\n",
       "      <th>enrolled_university</th>\n",
       "      <th>education_level</th>\n",
       "      <th>major_discipline</th>\n",
       "      <th>experience</th>\n",
       "      <th>company_size</th>\n",
       "      <th>company_type</th>\n",
       "      <th>last_new_job</th>\n",
       "      <th>training_hours</th>\n",
       "      <th>target</th>\n",
       "    </tr>\n",
       "  </thead>\n",
       "  <tbody>\n",
       "    <tr>\n",
       "      <th>0</th>\n",
       "      <td>8949</td>\n",
       "      <td>city_103</td>\n",
       "      <td>0.920</td>\n",
       "      <td>Male</td>\n",
       "      <td>Yes</td>\n",
       "      <td>no_enrollment</td>\n",
       "      <td>Graduate</td>\n",
       "      <td>STEM</td>\n",
       "      <td>21</td>\n",
       "      <td>NaN</td>\n",
       "      <td>NaN</td>\n",
       "      <td>1</td>\n",
       "      <td>36</td>\n",
       "      <td>1.0</td>\n",
       "    </tr>\n",
       "    <tr>\n",
       "      <th>1</th>\n",
       "      <td>29725</td>\n",
       "      <td>city_40</td>\n",
       "      <td>0.776</td>\n",
       "      <td>Male</td>\n",
       "      <td>No</td>\n",
       "      <td>no_enrollment</td>\n",
       "      <td>Graduate</td>\n",
       "      <td>STEM</td>\n",
       "      <td>15</td>\n",
       "      <td>around_100</td>\n",
       "      <td>Pvt_Ltd</td>\n",
       "      <td>5</td>\n",
       "      <td>47</td>\n",
       "      <td>0.0</td>\n",
       "    </tr>\n",
       "    <tr>\n",
       "      <th>2</th>\n",
       "      <td>11561</td>\n",
       "      <td>city_21</td>\n",
       "      <td>0.624</td>\n",
       "      <td>NaN</td>\n",
       "      <td>No</td>\n",
       "      <td>Full_time_course</td>\n",
       "      <td>Graduate</td>\n",
       "      <td>STEM</td>\n",
       "      <td>5</td>\n",
       "      <td>NaN</td>\n",
       "      <td>NaN</td>\n",
       "      <td>0</td>\n",
       "      <td>83</td>\n",
       "      <td>0.0</td>\n",
       "    </tr>\n",
       "    <tr>\n",
       "      <th>3</th>\n",
       "      <td>33241</td>\n",
       "      <td>city_115</td>\n",
       "      <td>0.789</td>\n",
       "      <td>NaN</td>\n",
       "      <td>No</td>\n",
       "      <td>NaN</td>\n",
       "      <td>Graduate</td>\n",
       "      <td>Business_Degree</td>\n",
       "      <td>0</td>\n",
       "      <td>NaN</td>\n",
       "      <td>Pvt_Ltd</td>\n",
       "      <td>0</td>\n",
       "      <td>52</td>\n",
       "      <td>1.0</td>\n",
       "    </tr>\n",
       "    <tr>\n",
       "      <th>4</th>\n",
       "      <td>666</td>\n",
       "      <td>city_162</td>\n",
       "      <td>0.767</td>\n",
       "      <td>Male</td>\n",
       "      <td>Yes</td>\n",
       "      <td>no_enrollment</td>\n",
       "      <td>Masters</td>\n",
       "      <td>STEM</td>\n",
       "      <td>21</td>\n",
       "      <td>around_100</td>\n",
       "      <td>Funded_Startup</td>\n",
       "      <td>4</td>\n",
       "      <td>8</td>\n",
       "      <td>0.0</td>\n",
       "    </tr>\n",
       "  </tbody>\n",
       "</table>\n",
       "</div>"
      ],
      "text/plain": [
       "   enrollee_id      city  city_development_index gender relevent_experience  \\\n",
       "0         8949  city_103                   0.920   Male                 Yes   \n",
       "1        29725   city_40                   0.776   Male                  No   \n",
       "2        11561   city_21                   0.624    NaN                  No   \n",
       "3        33241  city_115                   0.789    NaN                  No   \n",
       "4          666  city_162                   0.767   Male                 Yes   \n",
       "\n",
       "  enrolled_university education_level major_discipline experience  \\\n",
       "0       no_enrollment        Graduate             STEM         21   \n",
       "1       no_enrollment        Graduate             STEM         15   \n",
       "2    Full_time_course        Graduate             STEM          5   \n",
       "3                 NaN        Graduate  Business_Degree          0   \n",
       "4       no_enrollment         Masters             STEM         21   \n",
       "\n",
       "  company_size    company_type last_new_job  training_hours  target  \n",
       "0          NaN             NaN            1              36     1.0  \n",
       "1   around_100         Pvt_Ltd            5              47     0.0  \n",
       "2          NaN             NaN            0              83     0.0  \n",
       "3          NaN         Pvt_Ltd            0              52     1.0  \n",
       "4   around_100  Funded_Startup            4               8     0.0  "
      ]
     },
     "execution_count": 10,
     "metadata": {},
     "output_type": "execute_result"
    }
   ],
   "source": [
    "df.head()"
   ]
  },
  {
   "cell_type": "code",
   "execution_count": 11,
   "id": "cb157c72-f97d-45ef-9494-cbb4e65ef47f",
   "metadata": {},
   "outputs": [],
   "source": [
    "def grab_col_names(dataframe, cat_th=10, car_th=20):\n",
    "    # cat_cols, cat_but_car\n",
    "    cat_cols = [col for col in dataframe.columns if dataframe[col].dtypes == \"O\"]\n",
    "    num_but_cat = [col for col in dataframe.columns if dataframe[col].nunique() < cat_th and dataframe[col].dtypes != \"O\"]\n",
    "    cat_but_car = [col for col in dataframe.columns if dataframe[col].nunique() > car_th and dataframe[col].dtypes == \"O\"]\n",
    "    cat_cols = cat_cols + num_but_cat\n",
    "    cat_cols = [col for col in cat_cols if col not in cat_but_car]\n",
    "\n",
    "    # num_cols\n",
    "    num_cols = [col for col in dataframe.columns if dataframe[col].dtypes != \"O\"]\n",
    "    num_cols = [col for col in num_cols if col not in num_but_cat]\n",
    "\n",
    "    print(f\"Observations: {dataframe.shape[0]}\")\n",
    "    print(f\"Variables: {dataframe.shape[1]}\")\n",
    "    print(f'cat_cols: {len(cat_cols)}')\n",
    "    print(f'num_cols: {len(num_cols)}')\n",
    "    print(f'cat_but_car: {len(cat_but_car)}')\n",
    "    print(f'num_but_cat: {len(num_but_cat)}')\n",
    "    \n",
    "    return cat_cols, num_cols, cat_but_car"
   ]
  },
  {
   "cell_type": "code",
   "execution_count": 12,
   "id": "f03c4cde-d306-4309-9d5a-e9a04363df5e",
   "metadata": {},
   "outputs": [
    {
     "name": "stdout",
     "output_type": "stream",
     "text": [
      "Observations: 19158\n",
      "Variables: 14\n",
      "cat_cols: 9\n",
      "num_cols: 3\n",
      "cat_but_car: 2\n",
      "num_but_cat: 1\n"
     ]
    }
   ],
   "source": [
    "cat_cols, num_cols, cat_but_car = grab_col_names(df)"
   ]
  },
  {
   "cell_type": "code",
   "execution_count": null,
   "id": "3bdaf6b2-8547-46ee-b971-1643b88ec056",
   "metadata": {},
   "outputs": [],
   "source": []
  },
  {
   "cell_type": "markdown",
   "id": "ad29b8e0-00ed-4c5c-8e17-4713f467c852",
   "metadata": {},
   "source": [
    "#### ANALYSIS OF CATEGORICAL VARIABLES"
   ]
  },
  {
   "cell_type": "code",
   "execution_count": 13,
   "id": "f7fa311a-6d33-410b-9576-633933313577",
   "metadata": {},
   "outputs": [],
   "source": [
    "def cat_summary(dataframe, col_name, plot=False):\n",
    "    print(pd.DataFrame({col_name: dataframe[col_name].value_counts(),\n",
    "                        \"Ratio\": 100 * dataframe[col_name].value_counts() / len(dataframe)}))\n",
    "    print(\"##########################################\")\n",
    "    if plot:\n",
    "        sns.countplot(x=dataframe[col_name], data=dataframe)\n",
    "        plt.show()"
   ]
  },
  {
   "cell_type": "code",
   "execution_count": 14,
   "id": "a1a28ef5-79d5-4fc2-91e4-35f7b891e89d",
   "metadata": {},
   "outputs": [
    {
     "name": "stdout",
     "output_type": "stream",
     "text": [
      "        gender      Ratio\n",
      "Male     13221  69.010335\n",
      "Female    1238   6.462052\n",
      "Other      191   0.996973\n",
      "##########################################\n",
      "     relevent_experience      Ratio\n",
      "Yes                13792  71.990813\n",
      "No                  5366  28.009187\n",
      "##########################################\n",
      "                  enrolled_university      Ratio\n",
      "no_enrollment                   13817  72.121307\n",
      "Full_time_course                 3757  19.610607\n",
      "Part_time_course                 1198   6.253262\n",
      "##########################################\n",
      "                education_level      Ratio\n",
      "Graduate                  11598  60.538678\n",
      "Masters                    4361  22.763336\n",
      "High_School                2017  10.528239\n",
      "Phd                         414   2.160977\n",
      "Primary_School              308   1.607683\n",
      "##########################################\n",
      "                 major_discipline      Ratio\n",
      "STEM                        14492  75.644639\n",
      "Humanities                    669   3.492014\n",
      "Other_major                   381   1.988725\n",
      "Business_Degree               327   1.706859\n",
      "Arts                          253   1.320597\n",
      "No_Major                      223   1.164005\n",
      "##########################################\n",
      "                 company_size      Ratio\n",
      "around_100               3083  16.092494\n",
      "around_500               2571  13.419981\n",
      "more_than_10000          2019  10.538678\n",
      "around_50                1471   7.678255\n",
      "around_5000              1328   6.931830\n",
      "around_10                1308   6.827435\n",
      "around_1000               877   4.577722\n",
      "around_10000              563   2.938720\n",
      "##########################################\n",
      "                     company_type      Ratio\n",
      "Pvt_Ltd                      9817  51.242301\n",
      "Funded_Startup               1001   5.224971\n",
      "Public_Sector                 955   4.984863\n",
      "Early_Stage_Startup           603   3.147510\n",
      "NGO                           521   2.719491\n",
      "Other_type                    121   0.631590\n",
      "##########################################\n",
      "   last_new_job      Ratio\n",
      "1          8040  41.966802\n",
      "5          3290  17.172983\n",
      "2          2900  15.137279\n",
      "0          2452  12.798831\n",
      "4          1029   5.371124\n",
      "3          1024   5.345026\n",
      "##########################################\n",
      "     target      Ratio\n",
      "0.0   14381  75.065247\n",
      "1.0    4777  24.934753\n",
      "##########################################\n"
     ]
    }
   ],
   "source": [
    "for col in cat_cols:\n",
    "    cat_summary(df, col)"
   ]
  },
  {
   "cell_type": "markdown",
   "id": "a0ecff88-c1a3-48d9-acb2-9934e6a2a02c",
   "metadata": {},
   "source": [
    "#### Analysis of Numerical Variables"
   ]
  },
  {
   "cell_type": "code",
   "execution_count": 15,
   "id": "48b1a3a1-927a-4f32-9b1d-4c06da474c86",
   "metadata": {},
   "outputs": [],
   "source": [
    "def num_summary(dataframe, numerical_col, plot=False):\n",
    "    quantiles = [0.05, 0.10, 0.20, 0.30, 0.40, 0.50, 0.60, 0.70, 0.80, 0.90, 0.95, 0.99]\n",
    "    print(dataframe[numerical_col].describe(quantiles).T)\n",
    "\n",
    "    if plot:\n",
    "        dataframe[numerical_col].hist(bins=20)\n",
    "        plt.xlabel(numerical_col)\n",
    "        plt.title(numerical_col)\n",
    "        plt.show()"
   ]
  },
  {
   "cell_type": "code",
   "execution_count": 16,
   "id": "a7cea32d-10d2-4687-9270-97465bddcf00",
   "metadata": {},
   "outputs": [
    {
     "name": "stdout",
     "output_type": "stream",
     "text": [
      "count    19158.000000\n",
      "mean     16875.358179\n",
      "std       9616.292592\n",
      "min          1.000000\n",
      "5%        1782.850000\n",
      "10%       3535.100000\n",
      "20%       6858.800000\n",
      "30%      10305.100000\n",
      "40%      13583.800000\n",
      "50%      16982.500000\n",
      "60%      20266.200000\n",
      "70%      23558.900000\n",
      "80%      26843.600000\n",
      "90%      30142.300000\n",
      "95%      31782.150000\n",
      "99%      33088.290000\n",
      "max      33380.000000\n",
      "Name: enrollee_id, dtype: float64\n"
     ]
    },
    {
     "data": {
      "image/png": "[encoded data removed]",
      "text/plain": [
       "<Figure size 432x288 with 1 Axes>"
      ]
     },
     "metadata": {
      "needs_background": "light"
     },
     "output_type": "display_data"
    },
    {
     "name": "stdout",
     "output_type": "stream",
     "text": [
      "count    19158.000000\n",
      "mean         0.828848\n",
      "std          0.123362\n",
      "min          0.448000\n",
      "5%           0.624000\n",
      "10%          0.624000\n",
      "20%          0.691000\n",
      "30%          0.776000\n",
      "40%          0.878000\n",
      "50%          0.903000\n",
      "60%          0.920000\n",
      "70%          0.920000\n",
      "80%          0.920000\n",
      "90%          0.925000\n",
      "95%          0.926000\n",
      "99%          0.939000\n",
      "max          0.949000\n",
      "Name: city_development_index, dtype: float64\n"
     ]
    },
    {
     "data": {
      "image/png": "[encoded data removed]",
      "text/plain": [
       "<Figure size 432x288 with 1 Axes>"
      ]
     },
     "metadata": {
      "needs_background": "light"
     },
     "output_type": "display_data"
    },
    {
     "name": "stdout",
     "output_type": "stream",
     "text": [
      "count    19158.000000\n",
      "mean        65.366896\n",
      "std         60.058462\n",
      "min          1.000000\n",
      "5%           7.000000\n",
      "10%         11.000000\n",
      "20%         19.000000\n",
      "30%         27.000000\n",
      "40%         37.000000\n",
      "50%         47.000000\n",
      "60%         58.000000\n",
      "70%         78.000000\n",
      "80%        101.000000\n",
      "90%        146.000000\n",
      "95%        188.000000\n",
      "99%        302.000000\n",
      "max        336.000000\n",
      "Name: training_hours, dtype: float64\n"
     ]
    },
    {
     "data": {
      "image/png": "[encoded data removed]",
      "text/plain": [
       "<Figure size 432x288 with 1 Axes>"
      ]
     },
     "metadata": {
      "needs_background": "light"
     },
     "output_type": "display_data"
    }
   ],
   "source": [
    "for col in num_cols:\n",
    "    num_summary(df, col, plot=True)\n",
    "#df[num_cols].describe().T"
   ]
  },
  {
   "cell_type": "markdown",
   "id": "d66e5aa6-d4c7-4ad5-a556-822b6f4164ea",
   "metadata": {
    "tags": []
   },
   "source": [
    "#### NUMERICAL VARIABLES - TARGET VARIABLE ANALYSIS"
   ]
  },
  {
   "cell_type": "code",
   "execution_count": 17,
   "id": "ee190f26-5d7c-43bc-9dc6-92461b24a823",
   "metadata": {},
   "outputs": [],
   "source": [
    "def target_summary_with_num(dataframe, target, numerical_col):\n",
    "    print(dataframe.groupby(target).agg({numerical_col:\"mean\"}), end=\"\\n\\n\\n\")"
   ]
  },
  {
   "cell_type": "code",
   "execution_count": 18,
   "id": "cdce63b2-4ad9-4048-a152-8a0dffde8a13",
   "metadata": {},
   "outputs": [
    {
     "name": "stdout",
     "output_type": "stream",
     "text": [
      "         enrollee_id\n",
      "target              \n",
      "0.0     16601.160907\n",
      "1.0     17700.819971\n",
      "\n",
      "\n",
      "        city_development_index\n",
      "target                        \n",
      "0.0                   0.853139\n",
      "1.0                   0.755719\n",
      "\n",
      "\n",
      "        training_hours\n",
      "target                \n",
      "0.0          66.113761\n",
      "1.0          63.118484\n",
      "\n",
      "\n"
     ]
    }
   ],
   "source": [
    "for col in num_cols:\n",
    "    target_summary_with_num(df, \"target\", col)"
   ]
  },
  {
   "cell_type": "markdown",
   "id": "fcbedcaf-52dd-4f7f-a55a-63ebbb5e7f48",
   "metadata": {},
   "source": [
    "#### CATEGORICAL VARIABLES - TARGET VARIABLE ANALYSIS"
   ]
  },
  {
   "cell_type": "code",
   "execution_count": 19,
   "id": "50daccbd-7efc-40d9-946f-6e1d56e1fb32",
   "metadata": {},
   "outputs": [],
   "source": [
    "def target_summary_with_cat(dataframe, target, cat_col):\n",
    "    print(cat_col)\n",
    "    print(pd.DataFrame({\"Target_Mean\":dataframe.groupby(cat_col)[target].mean(),\n",
    "                        \"Count\": dataframe[cat_col].value_counts(),\n",
    "                        \"Ratio\":100* dataframe[cat_col].value_counts() / len(dataframe) \n",
    "                       }), end=\"\\n\\n\\n\")"
   ]
  },
  {
   "cell_type": "code",
   "execution_count": 20,
   "id": "fa8562f1-0073-4303-bf6c-584ea997d075",
   "metadata": {},
   "outputs": [
    {
     "name": "stdout",
     "output_type": "stream",
     "text": [
      "gender\n",
      "        Target_Mean  Count      Ratio\n",
      "Female     0.263328   1238   6.462052\n",
      "Male       0.227819  13221  69.010335\n",
      "Other      0.261780    191   0.996973\n",
      "\n",
      "\n",
      "relevent_experience\n",
      "     Target_Mean  Count      Ratio\n",
      "No      0.338427   5366  28.009187\n",
      "Yes     0.214690  13792  71.990813\n",
      "\n",
      "\n",
      "enrolled_university\n",
      "                  Target_Mean  Count      Ratio\n",
      "Full_time_course     0.380889   3757  19.610607\n",
      "Part_time_course     0.252087   1198   6.253262\n",
      "no_enrollment        0.211406  13817  72.121307\n",
      "\n",
      "\n",
      "education_level\n",
      "                Target_Mean  Count      Ratio\n",
      "Graduate           0.279790  11598  60.538678\n",
      "High_School        0.195340   2017  10.528239\n",
      "Masters            0.214400   4361  22.763336\n",
      "Phd                0.140097    414   2.160977\n",
      "Primary_School     0.133117    308   1.607683\n",
      "\n",
      "\n",
      "major_discipline\n",
      "                 Target_Mean  Count      Ratio\n",
      "Arts                0.209486    253   1.320597\n",
      "Business_Degree     0.262997    327   1.706859\n",
      "Humanities          0.210762    669   3.492014\n",
      "No_Major            0.246637    223   1.164005\n",
      "Other_major         0.267717    381   1.988725\n",
      "STEM                0.261593  14492  75.644639\n",
      "\n",
      "\n",
      "company_size\n",
      "                 Target_Mean  Count      Ratio\n",
      "around_10           0.171254   1308   6.827435\n",
      "around_100          0.176776   3083  16.092494\n",
      "around_1000         0.173318    877   4.577722\n",
      "around_10000        0.181172    563   2.938720\n",
      "around_50           0.233855   1471   7.678255\n",
      "around_500          0.161416   2571  13.419981\n",
      "around_5000         0.150602   1328   6.931830\n",
      "more_than_10000     0.190688   2019  10.538678\n",
      "\n",
      "\n",
      "company_type\n",
      "                     Target_Mean  Count      Ratio\n",
      "Early_Stage_Startup     0.235489    603   3.147510\n",
      "Funded_Startup          0.139860   1001   5.224971\n",
      "NGO                     0.186180    521   2.719491\n",
      "Other_type              0.239669    121   0.631590\n",
      "Public_Sector           0.219895    955   4.984863\n",
      "Pvt_Ltd                 0.180809   9817  51.242301\n",
      "\n",
      "\n",
      "last_new_job\n",
      "   Target_Mean  Count      Ratio\n",
      "0     0.301387   2452  12.798831\n",
      "1     0.264303   8040  41.966802\n",
      "2     0.241379   2900  15.137279\n",
      "3     0.225586   1024   5.345026\n",
      "4     0.221574   1029   5.371124\n",
      "5     0.182371   3290  17.172983\n",
      "\n",
      "\n",
      "target\n",
      "     Target_Mean  Count      Ratio\n",
      "0.0          0.0  14381  75.065247\n",
      "1.0          1.0   4777  24.934753\n",
      "\n",
      "\n"
     ]
    }
   ],
   "source": [
    "for col in cat_cols:\n",
    "    target_summary_with_cat(df,\"target\",col)"
   ]
  },
  {
   "cell_type": "markdown",
   "id": "46d9c00a-4157-4b75-9576-e7d496bd6ab0",
   "metadata": {},
   "source": [
    "#### MISSING VALUE ANALYSIS"
   ]
  },
  {
   "cell_type": "code",
   "execution_count": 21,
   "id": "84b4deac-d95c-4571-a6f6-65869c8cc963",
   "metadata": {},
   "outputs": [
    {
     "data": {
      "text/plain": [
       "enrollee_id                0.000000\n",
       "city                       0.000000\n",
       "city_development_index     0.000000\n",
       "gender                    23.530640\n",
       "relevent_experience        0.000000\n",
       "enrolled_university        2.014824\n",
       "education_level            2.401086\n",
       "major_discipline          14.683161\n",
       "experience                 0.339284\n",
       "company_size              30.994885\n",
       "company_type              32.049274\n",
       "last_new_job               2.207955\n",
       "training_hours             0.000000\n",
       "target                     0.000000\n",
       "dtype: float64"
      ]
     },
     "execution_count": 21,
     "metadata": {},
     "output_type": "execute_result"
    }
   ],
   "source": [
    "df.isna().sum()/df.shape[0]*100"
   ]
  },
  {
   "cell_type": "markdown",
   "id": "d963b401-c407-4f9e-ad17-d8f2bb76d6df",
   "metadata": {},
   "source": [
    "Columns in which we have 2% or less than 2% null values we can drop those null values"
   ]
  },
  {
   "cell_type": "code",
   "execution_count": 22,
   "id": "d8d27086-cf70-42be-bbff-7d1d054b08c1",
   "metadata": {},
   "outputs": [],
   "source": [
    "df.dropna(subset=['enrolled_university','education_level','experience','last_new_job'], axis=0, inplace=True)"
   ]
  },
  {
   "cell_type": "code",
   "execution_count": 23,
   "id": "b06a9842-893b-4058-b674-4532ef624ce6",
   "metadata": {},
   "outputs": [
    {
     "data": {
      "text/plain": [
       "(18014, 14)"
      ]
     },
     "execution_count": 23,
     "metadata": {},
     "output_type": "execute_result"
    }
   ],
   "source": [
    "# after dropping those null values\n",
    "df.shape"
   ]
  },
  {
   "cell_type": "markdown",
   "id": "cf4a1ab8-0082-4528-9e51-7d6f35112c62",
   "metadata": {},
   "source": [
    "Now we are going to fill null values with their mode as all the columns left have dtype as 'object'"
   ]
  },
  {
   "cell_type": "code",
   "execution_count": 24,
   "id": "8c62c04f-b4a4-413e-b371-090bde79bde0",
   "metadata": {},
   "outputs": [],
   "source": [
    "col_mode = ['gender','company_size','major_discipline','company_type','relevent_experience']\n",
    "for col in col_mode:\n",
    "    df[col].fillna(df[col].mode()[0],inplace=True)"
   ]
  },
  {
   "cell_type": "markdown",
   "id": "659d13e2-2434-405a-bf76-220b66d081c3",
   "metadata": {},
   "source": [
    "Let's change the dtype of experience and last_new_job column"
   ]
  },
  {
   "cell_type": "code",
   "execution_count": 25,
   "id": "b30433a1-a285-470e-b069-16475bff101e",
   "metadata": {},
   "outputs": [],
   "source": [
    "df = df.astype({'experience':int,'last_new_job':int})"
   ]
  },
  {
   "cell_type": "code",
   "execution_count": 26,
   "id": "014c1318-99e6-4897-bffe-444616eb5ee3",
   "metadata": {},
   "outputs": [],
   "source": [
    "cat_cols=[col for col in cat_cols if col not in [\"target\"]]"
   ]
  },
  {
   "cell_type": "code",
   "execution_count": 27,
   "id": "883edf5b-8d9e-4c2a-b573-01a0808bdf6f",
   "metadata": {},
   "outputs": [
    {
     "data": {
      "text/plain": [
       "['gender',\n",
       " 'relevent_experience',\n",
       " 'enrolled_university',\n",
       " 'education_level',\n",
       " 'major_discipline',\n",
       " 'company_size',\n",
       " 'company_type',\n",
       " 'last_new_job']"
      ]
     },
     "execution_count": 27,
     "metadata": {},
     "output_type": "execute_result"
    }
   ],
   "source": [
    "cat_cols"
   ]
  },
  {
   "cell_type": "code",
   "execution_count": 28,
   "id": "19e7a04b-6dd3-4e6a-9b39-769b9798dd30",
   "metadata": {},
   "outputs": [],
   "source": [
    "dff = df.copy()"
   ]
  },
  {
   "cell_type": "code",
   "execution_count": 29,
   "id": "851a8f29-e86d-4ac5-bfd9-7f5a39c0c561",
   "metadata": {},
   "outputs": [],
   "source": [
    "def one_hot_encoder(dataframe, categorical_cols, drop_first=False):\n",
    "    dataframe = pd.get_dummies(dataframe, columns=categorical_cols, drop_first=drop_first)\n",
    "    return dataframe"
   ]
  },
  {
   "cell_type": "code",
   "execution_count": 30,
   "id": "34f2d040-47e6-4507-943a-de34f280531e",
   "metadata": {},
   "outputs": [],
   "source": [
    "dff = one_hot_encoder(dff, cat_cols, drop_first=True)"
   ]
  },
  {
   "cell_type": "code",
   "execution_count": 31,
   "id": "d573bac0-5b7a-4a84-9a97-eec5c6cf0295",
   "metadata": {},
   "outputs": [],
   "source": [
    "def outlier_thresholds(dataframe, col_name, q1=0.05, q3=0.95):\n",
    "    quartile1 = dataframe[col_name].quantile(q1)\n",
    "    quartile3 = dataframe[col_name].quantile(q3)\n",
    "    interquantile_range = quartile3 - quartile1\n",
    "    up_limit = quartile3 + 1.5 * interquantile_range\n",
    "    low_limit = quartile1 - 1.5 * interquantile_range\n",
    "    return low_limit, up_limit"
   ]
  },
  {
   "cell_type": "code",
   "execution_count": 32,
   "id": "287e8346-0e13-46b1-a7ca-75abe1335839",
   "metadata": {},
   "outputs": [],
   "source": [
    "def check_outlier(dataframe, col_name):\n",
    "    low_limit, up_limit = outlier_thresholds(dataframe, col_name)\n",
    "    if dataframe[(dataframe[col_name] > up_limit) | (dataframe[col_name] < low_limit)].any(axis=None):\n",
    "        return True\n",
    "    else:\n",
    "        return False"
   ]
  },
  {
   "cell_type": "code",
   "execution_count": 33,
   "id": "74cbb41f-7865-4685-9302-1d86995e50ba",
   "metadata": {},
   "outputs": [],
   "source": [
    "def replace_with_thresholds(dataframe, variable, q1=0.05, q3=0.95):\n",
    "    low_limit, up_limit = outlier_thresholds(dataframe, variable, q1=0.05, q3=0.95)\n",
    "    dataframe.loc[(dataframe[variable] < low_limit), variable] = low_limit\n",
    "    dataframe.loc[(dataframe[variable] > up_limit), variable] = up_limit"
   ]
  },
  {
   "cell_type": "code",
   "execution_count": 34,
   "id": "967f6164-e332-49f9-ade0-2c1e6b2c0406",
   "metadata": {},
   "outputs": [
    {
     "name": "stdout",
     "output_type": "stream",
     "text": [
      "enrollee_id False\n",
      "city_development_index False\n",
      "training_hours False\n"
     ]
    }
   ],
   "source": [
    "for col in num_cols:\n",
    "    print(col, check_outlier(df, col))"
   ]
  },
  {
   "cell_type": "code",
   "execution_count": 35,
   "id": "d4d99ff9-7a0d-446d-93c9-50d938161800",
   "metadata": {},
   "outputs": [],
   "source": [
    "# Create categorical variable from experience variable"
   ]
  },
  {
   "cell_type": "code",
   "execution_count": 36,
   "id": "fc7f73aa-6344-4738-8675-017a96143ed8",
   "metadata": {},
   "outputs": [],
   "source": [
    "df.loc[(df[\"experience\"]>= 0) & (df[\"experience\"]<=5), \"new_experience\"]= \"junior\"\n",
    "df.loc[(df[\"experience\"]>= 5) & (df[\"experience\"]<=10), \"new_experience\"]= \"middle\"\n",
    "df.loc[(df[\"experience\"]>= 10) & (df[\"experience\"]<=15), \"new_experience\"]= \"senior\"\n",
    "df.loc[(df[\"experience\"]>= 15) & (df[\"experience\"]<=21), \"new_experience\"]= \"lead\""
   ]
  },
  {
   "cell_type": "code",
   "execution_count": 37,
   "id": "87f204c9-cbe8-4080-8a85-9fec442d4a94",
   "metadata": {},
   "outputs": [
    {
     "data": {
      "text/html": [
       "<div>\n",
       "<style scoped>\n",
       "    .dataframe tbody tr th:only-of-type {\n",
       "        vertical-align: middle;\n",
       "    }\n",
       "\n",
       "    .dataframe tbody tr th {\n",
       "        vertical-align: top;\n",
       "    }\n",
       "\n",
       "    .dataframe thead th {\n",
       "        text-align: right;\n",
       "    }\n",
       "</style>\n",
       "<table border=\"1\" class=\"dataframe\">\n",
       "  <thead>\n",
       "    <tr style=\"text-align: right;\">\n",
       "      <th></th>\n",
       "      <th>enrollee_id</th>\n",
       "      <th>city</th>\n",
       "      <th>city_development_index</th>\n",
       "      <th>gender</th>\n",
       "      <th>relevent_experience</th>\n",
       "      <th>enrolled_university</th>\n",
       "      <th>education_level</th>\n",
       "      <th>major_discipline</th>\n",
       "      <th>experience</th>\n",
       "      <th>company_size</th>\n",
       "      <th>company_type</th>\n",
       "      <th>last_new_job</th>\n",
       "      <th>training_hours</th>\n",
       "      <th>target</th>\n",
       "      <th>new_experience</th>\n",
       "    </tr>\n",
       "  </thead>\n",
       "  <tbody>\n",
       "    <tr>\n",
       "      <th>0</th>\n",
       "      <td>8949</td>\n",
       "      <td>city_103</td>\n",
       "      <td>0.920</td>\n",
       "      <td>Male</td>\n",
       "      <td>Yes</td>\n",
       "      <td>no_enrollment</td>\n",
       "      <td>Graduate</td>\n",
       "      <td>STEM</td>\n",
       "      <td>21</td>\n",
       "      <td>around_100</td>\n",
       "      <td>Pvt_Ltd</td>\n",
       "      <td>1</td>\n",
       "      <td>36</td>\n",
       "      <td>1.0</td>\n",
       "      <td>lead</td>\n",
       "    </tr>\n",
       "    <tr>\n",
       "      <th>1</th>\n",
       "      <td>29725</td>\n",
       "      <td>city_40</td>\n",
       "      <td>0.776</td>\n",
       "      <td>Male</td>\n",
       "      <td>No</td>\n",
       "      <td>no_enrollment</td>\n",
       "      <td>Graduate</td>\n",
       "      <td>STEM</td>\n",
       "      <td>15</td>\n",
       "      <td>around_100</td>\n",
       "      <td>Pvt_Ltd</td>\n",
       "      <td>5</td>\n",
       "      <td>47</td>\n",
       "      <td>0.0</td>\n",
       "      <td>lead</td>\n",
       "    </tr>\n",
       "    <tr>\n",
       "      <th>2</th>\n",
       "      <td>11561</td>\n",
       "      <td>city_21</td>\n",
       "      <td>0.624</td>\n",
       "      <td>Male</td>\n",
       "      <td>No</td>\n",
       "      <td>Full_time_course</td>\n",
       "      <td>Graduate</td>\n",
       "      <td>STEM</td>\n",
       "      <td>5</td>\n",
       "      <td>around_100</td>\n",
       "      <td>Pvt_Ltd</td>\n",
       "      <td>0</td>\n",
       "      <td>83</td>\n",
       "      <td>0.0</td>\n",
       "      <td>middle</td>\n",
       "    </tr>\n",
       "    <tr>\n",
       "      <th>4</th>\n",
       "      <td>666</td>\n",
       "      <td>city_162</td>\n",
       "      <td>0.767</td>\n",
       "      <td>Male</td>\n",
       "      <td>Yes</td>\n",
       "      <td>no_enrollment</td>\n",
       "      <td>Masters</td>\n",
       "      <td>STEM</td>\n",
       "      <td>21</td>\n",
       "      <td>around_100</td>\n",
       "      <td>Funded_Startup</td>\n",
       "      <td>4</td>\n",
       "      <td>8</td>\n",
       "      <td>0.0</td>\n",
       "      <td>lead</td>\n",
       "    </tr>\n",
       "    <tr>\n",
       "      <th>5</th>\n",
       "      <td>21651</td>\n",
       "      <td>city_176</td>\n",
       "      <td>0.764</td>\n",
       "      <td>Male</td>\n",
       "      <td>Yes</td>\n",
       "      <td>Part_time_course</td>\n",
       "      <td>Graduate</td>\n",
       "      <td>STEM</td>\n",
       "      <td>11</td>\n",
       "      <td>around_100</td>\n",
       "      <td>Pvt_Ltd</td>\n",
       "      <td>1</td>\n",
       "      <td>24</td>\n",
       "      <td>1.0</td>\n",
       "      <td>senior</td>\n",
       "    </tr>\n",
       "  </tbody>\n",
       "</table>\n",
       "</div>"
      ],
      "text/plain": [
       "   enrollee_id      city  city_development_index gender relevent_experience  \\\n",
       "0         8949  city_103                   0.920   Male                 Yes   \n",
       "1        29725   city_40                   0.776   Male                  No   \n",
       "2        11561   city_21                   0.624   Male                  No   \n",
       "4          666  city_162                   0.767   Male                 Yes   \n",
       "5        21651  city_176                   0.764   Male                 Yes   \n",
       "\n",
       "  enrolled_university education_level major_discipline  experience  \\\n",
       "0       no_enrollment        Graduate             STEM          21   \n",
       "1       no_enrollment        Graduate             STEM          15   \n",
       "2    Full_time_course        Graduate             STEM           5   \n",
       "4       no_enrollment         Masters             STEM          21   \n",
       "5    Part_time_course        Graduate             STEM          11   \n",
       "\n",
       "  company_size    company_type  last_new_job  training_hours  target  \\\n",
       "0   around_100         Pvt_Ltd             1              36     1.0   \n",
       "1   around_100         Pvt_Ltd             5              47     0.0   \n",
       "2   around_100         Pvt_Ltd             0              83     0.0   \n",
       "4   around_100  Funded_Startup             4               8     0.0   \n",
       "5   around_100         Pvt_Ltd             1              24     1.0   \n",
       "\n",
       "  new_experience  \n",
       "0           lead  \n",
       "1           lead  \n",
       "2         middle  \n",
       "4           lead  \n",
       "5         senior  "
      ]
     },
     "execution_count": 37,
     "metadata": {},
     "output_type": "execute_result"
    }
   ],
   "source": [
    "df.head()"
   ]
  },
  {
   "cell_type": "code",
   "execution_count": 38,
   "id": "cde23a0d-62a6-49c4-90c2-d53ee34de254",
   "metadata": {},
   "outputs": [],
   "source": [
    "df[\"new_small_enterprises\"] = df[\"company_size\"].apply(lambda x: 1 if x in [\"around_10\", \"around_50\"] else 0)\n",
    "df[\"new_medium_enterprises\"] = df[\"company_size\"].apply(lambda x: 1 if x in [\"around_100\", \"around_500\"] else 0)\n",
    "df[\"new_large_enterprises\"] = df[\"company_size\"].apply(lambda x: 1 if x in [\"around_10000\", \"around_5000\",\"around_10000\"] else 0)\n",
    "df[\"new_holding_enterprises\"] = df[\"company_size\"].apply(lambda x: 1 if x in [\"more_than_10000\"] else 0)"
   ]
  },
  {
   "cell_type": "markdown",
   "id": "844f91b0-68e2-4d3c-a523-5a192409ff20",
   "metadata": {},
   "source": [
    "I renamed the\"relevent experience\" variable name."
   ]
  },
  {
   "cell_type": "code",
   "execution_count": 39,
   "id": "3cb8cada-e5ad-440c-a1b1-48ddd49120df",
   "metadata": {},
   "outputs": [],
   "source": [
    "df = df.rename(columns = {\"relevent_experience\": \"relevant_experience\"})"
   ]
  },
  {
   "cell_type": "code",
   "execution_count": 40,
   "id": "7d55019a-12da-4582-98bc-db82585f3db6",
   "metadata": {},
   "outputs": [
    {
     "data": {
      "text/html": [
       "<div>\n",
       "<style scoped>\n",
       "    .dataframe tbody tr th:only-of-type {\n",
       "        vertical-align: middle;\n",
       "    }\n",
       "\n",
       "    .dataframe tbody tr th {\n",
       "        vertical-align: top;\n",
       "    }\n",
       "\n",
       "    .dataframe thead th {\n",
       "        text-align: right;\n",
       "    }\n",
       "</style>\n",
       "<table border=\"1\" class=\"dataframe\">\n",
       "  <thead>\n",
       "    <tr style=\"text-align: right;\">\n",
       "      <th></th>\n",
       "      <th>enrollee_id</th>\n",
       "      <th>city</th>\n",
       "      <th>city_development_index</th>\n",
       "      <th>gender</th>\n",
       "      <th>relevant_experience</th>\n",
       "      <th>enrolled_university</th>\n",
       "      <th>education_level</th>\n",
       "      <th>major_discipline</th>\n",
       "      <th>experience</th>\n",
       "      <th>company_size</th>\n",
       "      <th>company_type</th>\n",
       "      <th>last_new_job</th>\n",
       "      <th>training_hours</th>\n",
       "      <th>target</th>\n",
       "      <th>new_experience</th>\n",
       "      <th>new_small_enterprises</th>\n",
       "      <th>new_medium_enterprises</th>\n",
       "      <th>new_large_enterprises</th>\n",
       "      <th>new_holding_enterprises</th>\n",
       "    </tr>\n",
       "  </thead>\n",
       "  <tbody>\n",
       "    <tr>\n",
       "      <th>0</th>\n",
       "      <td>8949</td>\n",
       "      <td>city_103</td>\n",
       "      <td>0.920</td>\n",
       "      <td>Male</td>\n",
       "      <td>Yes</td>\n",
       "      <td>no_enrollment</td>\n",
       "      <td>Graduate</td>\n",
       "      <td>STEM</td>\n",
       "      <td>21</td>\n",
       "      <td>around_100</td>\n",
       "      <td>Pvt_Ltd</td>\n",
       "      <td>1</td>\n",
       "      <td>36</td>\n",
       "      <td>1.0</td>\n",
       "      <td>lead</td>\n",
       "      <td>0</td>\n",
       "      <td>1</td>\n",
       "      <td>0</td>\n",
       "      <td>0</td>\n",
       "    </tr>\n",
       "    <tr>\n",
       "      <th>1</th>\n",
       "      <td>29725</td>\n",
       "      <td>city_40</td>\n",
       "      <td>0.776</td>\n",
       "      <td>Male</td>\n",
       "      <td>No</td>\n",
       "      <td>no_enrollment</td>\n",
       "      <td>Graduate</td>\n",
       "      <td>STEM</td>\n",
       "      <td>15</td>\n",
       "      <td>around_100</td>\n",
       "      <td>Pvt_Ltd</td>\n",
       "      <td>5</td>\n",
       "      <td>47</td>\n",
       "      <td>0.0</td>\n",
       "      <td>lead</td>\n",
       "      <td>0</td>\n",
       "      <td>1</td>\n",
       "      <td>0</td>\n",
       "      <td>0</td>\n",
       "    </tr>\n",
       "    <tr>\n",
       "      <th>2</th>\n",
       "      <td>11561</td>\n",
       "      <td>city_21</td>\n",
       "      <td>0.624</td>\n",
       "      <td>Male</td>\n",
       "      <td>No</td>\n",
       "      <td>Full_time_course</td>\n",
       "      <td>Graduate</td>\n",
       "      <td>STEM</td>\n",
       "      <td>5</td>\n",
       "      <td>around_100</td>\n",
       "      <td>Pvt_Ltd</td>\n",
       "      <td>0</td>\n",
       "      <td>83</td>\n",
       "      <td>0.0</td>\n",
       "      <td>middle</td>\n",
       "      <td>0</td>\n",
       "      <td>1</td>\n",
       "      <td>0</td>\n",
       "      <td>0</td>\n",
       "    </tr>\n",
       "    <tr>\n",
       "      <th>4</th>\n",
       "      <td>666</td>\n",
       "      <td>city_162</td>\n",
       "      <td>0.767</td>\n",
       "      <td>Male</td>\n",
       "      <td>Yes</td>\n",
       "      <td>no_enrollment</td>\n",
       "      <td>Masters</td>\n",
       "      <td>STEM</td>\n",
       "      <td>21</td>\n",
       "      <td>around_100</td>\n",
       "      <td>Funded_Startup</td>\n",
       "      <td>4</td>\n",
       "      <td>8</td>\n",
       "      <td>0.0</td>\n",
       "      <td>lead</td>\n",
       "      <td>0</td>\n",
       "      <td>1</td>\n",
       "      <td>0</td>\n",
       "      <td>0</td>\n",
       "    </tr>\n",
       "    <tr>\n",
       "      <th>5</th>\n",
       "      <td>21651</td>\n",
       "      <td>city_176</td>\n",
       "      <td>0.764</td>\n",
       "      <td>Male</td>\n",
       "      <td>Yes</td>\n",
       "      <td>Part_time_course</td>\n",
       "      <td>Graduate</td>\n",
       "      <td>STEM</td>\n",
       "      <td>11</td>\n",
       "      <td>around_100</td>\n",
       "      <td>Pvt_Ltd</td>\n",
       "      <td>1</td>\n",
       "      <td>24</td>\n",
       "      <td>1.0</td>\n",
       "      <td>senior</td>\n",
       "      <td>0</td>\n",
       "      <td>1</td>\n",
       "      <td>0</td>\n",
       "      <td>0</td>\n",
       "    </tr>\n",
       "  </tbody>\n",
       "</table>\n",
       "</div>"
      ],
      "text/plain": [
       "   enrollee_id      city  city_development_index gender relevant_experience  \\\n",
       "0         8949  city_103                   0.920   Male                 Yes   \n",
       "1        29725   city_40                   0.776   Male                  No   \n",
       "2        11561   city_21                   0.624   Male                  No   \n",
       "4          666  city_162                   0.767   Male                 Yes   \n",
       "5        21651  city_176                   0.764   Male                 Yes   \n",
       "\n",
       "  enrolled_university education_level major_discipline  experience  \\\n",
       "0       no_enrollment        Graduate             STEM          21   \n",
       "1       no_enrollment        Graduate             STEM          15   \n",
       "2    Full_time_course        Graduate             STEM           5   \n",
       "4       no_enrollment         Masters             STEM          21   \n",
       "5    Part_time_course        Graduate             STEM          11   \n",
       "\n",
       "  company_size    company_type  last_new_job  training_hours  target  \\\n",
       "0   around_100         Pvt_Ltd             1              36     1.0   \n",
       "1   around_100         Pvt_Ltd             5              47     0.0   \n",
       "2   around_100         Pvt_Ltd             0              83     0.0   \n",
       "4   around_100  Funded_Startup             4               8     0.0   \n",
       "5   around_100         Pvt_Ltd             1              24     1.0   \n",
       "\n",
       "  new_experience  new_small_enterprises  new_medium_enterprises  \\\n",
       "0           lead                      0                       1   \n",
       "1           lead                      0                       1   \n",
       "2         middle                      0                       1   \n",
       "4           lead                      0                       1   \n",
       "5         senior                      0                       1   \n",
       "\n",
       "   new_large_enterprises  new_holding_enterprises  \n",
       "0                      0                        0  \n",
       "1                      0                        0  \n",
       "2                      0                        0  \n",
       "4                      0                        0  \n",
       "5                      0                        0  "
      ]
     },
     "execution_count": 40,
     "metadata": {},
     "output_type": "execute_result"
    }
   ],
   "source": [
    "df.head()"
   ]
  },
  {
   "cell_type": "code",
   "execution_count": 41,
   "id": "cee9e9ae-b65e-4678-bc88-3524eab473a5",
   "metadata": {},
   "outputs": [
    {
     "data": {
      "text/plain": [
       "(18014, 19)"
      ]
     },
     "execution_count": 41,
     "metadata": {},
     "output_type": "execute_result"
    }
   ],
   "source": [
    "df.shape"
   ]
  },
  {
   "cell_type": "markdown",
   "id": "15319e52-2244-4a07-ba92-4152631b23a9",
   "metadata": {},
   "source": [
    "#### ENCODING"
   ]
  },
  {
   "cell_type": "code",
   "execution_count": 42,
   "id": "f36a1163-8d69-4cfa-bf48-0ab9c3083dd1",
   "metadata": {},
   "outputs": [
    {
     "name": "stdout",
     "output_type": "stream",
     "text": [
      "Observations: 18014\n",
      "Variables: 19\n",
      "cat_cols: 14\n",
      "num_cols: 4\n",
      "cat_but_car: 1\n",
      "num_but_cat: 6\n"
     ]
    }
   ],
   "source": [
    "cat_cols, num_cols, cat_but_car = grab_col_names(df)"
   ]
  },
  {
   "cell_type": "markdown",
   "id": "f3a59a3a-e899-41ed-8c02-c6ed27bbd561",
   "metadata": {},
   "source": [
    "*LABEL ENCODING*"
   ]
  },
  {
   "cell_type": "code",
   "execution_count": 43,
   "id": "77a6f509-0d63-4a68-b3f9-9e23fc413696",
   "metadata": {},
   "outputs": [],
   "source": [
    "from sklearn.preprocessing import LabelEncoder"
   ]
  },
  {
   "cell_type": "code",
   "execution_count": 44,
   "id": "3b0b7c8b-312b-4737-b7a9-7fd1c0583eac",
   "metadata": {},
   "outputs": [],
   "source": [
    "def label_encoder(dataframe, binary_col):\n",
    "    labelencoder = LabelEncoder()\n",
    "    dataframe[binary_col] = labelencoder.fit_transform(dataframe[binary_col])\n",
    "    return dataframe"
   ]
  },
  {
   "cell_type": "code",
   "execution_count": 45,
   "id": "e419fe13-12cc-4137-951d-cfbbe5d98db0",
   "metadata": {},
   "outputs": [
    {
     "data": {
      "text/plain": [
       "['relevant_experience']"
      ]
     },
     "execution_count": 45,
     "metadata": {},
     "output_type": "execute_result"
    }
   ],
   "source": [
    "binary_cols = [col for col in df.columns if df[col].dtypes == \"O\" and df[col].nunique() == 2]\n",
    "binary_cols"
   ]
  },
  {
   "cell_type": "code",
   "execution_count": 46,
   "id": "baf18a9f-35f8-4f81-8fb5-743bcfc5d00d",
   "metadata": {},
   "outputs": [],
   "source": [
    "for col in binary_cols:\n",
    "    df = label_encoder(df, col)"
   ]
  },
  {
   "cell_type": "markdown",
   "id": "37dd6e58-4998-45ab-a442-eebaf8299d99",
   "metadata": {},
   "source": [
    "*One-Hot Encoding*"
   ]
  },
  {
   "cell_type": "code",
   "execution_count": 47,
   "id": "6193f5ea-56ee-4afc-8d85-16b7f5d9d062",
   "metadata": {},
   "outputs": [
    {
     "data": {
      "text/plain": [
       "['gender',\n",
       " 'enrolled_university',\n",
       " 'education_level',\n",
       " 'major_discipline',\n",
       " 'company_size',\n",
       " 'company_type',\n",
       " 'new_experience',\n",
       " 'last_new_job',\n",
       " 'new_small_enterprises',\n",
       " 'new_medium_enterprises',\n",
       " 'new_large_enterprises',\n",
       " 'new_holding_enterprises']"
      ]
     },
     "execution_count": 47,
     "metadata": {},
     "output_type": "execute_result"
    }
   ],
   "source": [
    "cat_cols = [col for col in cat_cols if col not in binary_cols and col not in [\"target\"]]\n",
    "cat_cols"
   ]
  },
  {
   "cell_type": "code",
   "execution_count": 48,
   "id": "f6a7525c-abed-42bf-8971-c7363524b437",
   "metadata": {},
   "outputs": [],
   "source": [
    "def one_hot_encoder(dataframe, categorical_cols, drop_first=False):\n",
    "    dataframe = pd.get_dummies(dataframe, columns=categorical_cols, drop_first=drop_first)\n",
    "    return dataframe"
   ]
  },
  {
   "cell_type": "code",
   "execution_count": 49,
   "id": "c261e052-6183-441f-96e5-c5ff9638ec3b",
   "metadata": {},
   "outputs": [],
   "source": [
    "df = one_hot_encoder(df, cat_cols, drop_first=True)"
   ]
  },
  {
   "cell_type": "code",
   "execution_count": 50,
   "id": "1edcd43f-9be4-4559-bff2-e1dbdb78510b",
   "metadata": {},
   "outputs": [
    {
     "data": {
      "text/plain": [
       "(18014, 44)"
      ]
     },
     "execution_count": 50,
     "metadata": {},
     "output_type": "execute_result"
    }
   ],
   "source": [
    "df.shape"
   ]
  },
  {
   "cell_type": "code",
   "execution_count": 51,
   "id": "b9b3ef67-4184-473f-b89c-5b6644668a13",
   "metadata": {},
   "outputs": [
    {
     "data": {
      "text/html": [
       "<div>\n",
       "<style scoped>\n",
       "    .dataframe tbody tr th:only-of-type {\n",
       "        vertical-align: middle;\n",
       "    }\n",
       "\n",
       "    .dataframe tbody tr th {\n",
       "        vertical-align: top;\n",
       "    }\n",
       "\n",
       "    .dataframe thead th {\n",
       "        text-align: right;\n",
       "    }\n",
       "</style>\n",
       "<table border=\"1\" class=\"dataframe\">\n",
       "  <thead>\n",
       "    <tr style=\"text-align: right;\">\n",
       "      <th></th>\n",
       "      <th>enrollee_id</th>\n",
       "      <th>city</th>\n",
       "      <th>city_development_index</th>\n",
       "      <th>relevant_experience</th>\n",
       "      <th>experience</th>\n",
       "      <th>training_hours</th>\n",
       "      <th>target</th>\n",
       "      <th>gender_Male</th>\n",
       "      <th>gender_Other</th>\n",
       "      <th>enrolled_university_Part_time_course</th>\n",
       "      <th>...</th>\n",
       "      <th>new_experience_senior</th>\n",
       "      <th>last_new_job_1</th>\n",
       "      <th>last_new_job_2</th>\n",
       "      <th>last_new_job_3</th>\n",
       "      <th>last_new_job_4</th>\n",
       "      <th>last_new_job_5</th>\n",
       "      <th>new_small_enterprises_1</th>\n",
       "      <th>new_medium_enterprises_1</th>\n",
       "      <th>new_large_enterprises_1</th>\n",
       "      <th>new_holding_enterprises_1</th>\n",
       "    </tr>\n",
       "  </thead>\n",
       "  <tbody>\n",
       "    <tr>\n",
       "      <th>0</th>\n",
       "      <td>8949</td>\n",
       "      <td>city_103</td>\n",
       "      <td>0.920</td>\n",
       "      <td>1</td>\n",
       "      <td>21</td>\n",
       "      <td>36</td>\n",
       "      <td>1.0</td>\n",
       "      <td>1</td>\n",
       "      <td>0</td>\n",
       "      <td>0</td>\n",
       "      <td>...</td>\n",
       "      <td>0</td>\n",
       "      <td>1</td>\n",
       "      <td>0</td>\n",
       "      <td>0</td>\n",
       "      <td>0</td>\n",
       "      <td>0</td>\n",
       "      <td>0</td>\n",
       "      <td>1</td>\n",
       "      <td>0</td>\n",
       "      <td>0</td>\n",
       "    </tr>\n",
       "    <tr>\n",
       "      <th>1</th>\n",
       "      <td>29725</td>\n",
       "      <td>city_40</td>\n",
       "      <td>0.776</td>\n",
       "      <td>0</td>\n",
       "      <td>15</td>\n",
       "      <td>47</td>\n",
       "      <td>0.0</td>\n",
       "      <td>1</td>\n",
       "      <td>0</td>\n",
       "      <td>0</td>\n",
       "      <td>...</td>\n",
       "      <td>0</td>\n",
       "      <td>0</td>\n",
       "      <td>0</td>\n",
       "      <td>0</td>\n",
       "      <td>0</td>\n",
       "      <td>1</td>\n",
       "      <td>0</td>\n",
       "      <td>1</td>\n",
       "      <td>0</td>\n",
       "      <td>0</td>\n",
       "    </tr>\n",
       "    <tr>\n",
       "      <th>2</th>\n",
       "      <td>11561</td>\n",
       "      <td>city_21</td>\n",
       "      <td>0.624</td>\n",
       "      <td>0</td>\n",
       "      <td>5</td>\n",
       "      <td>83</td>\n",
       "      <td>0.0</td>\n",
       "      <td>1</td>\n",
       "      <td>0</td>\n",
       "      <td>0</td>\n",
       "      <td>...</td>\n",
       "      <td>0</td>\n",
       "      <td>0</td>\n",
       "      <td>0</td>\n",
       "      <td>0</td>\n",
       "      <td>0</td>\n",
       "      <td>0</td>\n",
       "      <td>0</td>\n",
       "      <td>1</td>\n",
       "      <td>0</td>\n",
       "      <td>0</td>\n",
       "    </tr>\n",
       "    <tr>\n",
       "      <th>4</th>\n",
       "      <td>666</td>\n",
       "      <td>city_162</td>\n",
       "      <td>0.767</td>\n",
       "      <td>1</td>\n",
       "      <td>21</td>\n",
       "      <td>8</td>\n",
       "      <td>0.0</td>\n",
       "      <td>1</td>\n",
       "      <td>0</td>\n",
       "      <td>0</td>\n",
       "      <td>...</td>\n",
       "      <td>0</td>\n",
       "      <td>0</td>\n",
       "      <td>0</td>\n",
       "      <td>0</td>\n",
       "      <td>1</td>\n",
       "      <td>0</td>\n",
       "      <td>0</td>\n",
       "      <td>1</td>\n",
       "      <td>0</td>\n",
       "      <td>0</td>\n",
       "    </tr>\n",
       "    <tr>\n",
       "      <th>5</th>\n",
       "      <td>21651</td>\n",
       "      <td>city_176</td>\n",
       "      <td>0.764</td>\n",
       "      <td>1</td>\n",
       "      <td>11</td>\n",
       "      <td>24</td>\n",
       "      <td>1.0</td>\n",
       "      <td>1</td>\n",
       "      <td>0</td>\n",
       "      <td>1</td>\n",
       "      <td>...</td>\n",
       "      <td>1</td>\n",
       "      <td>1</td>\n",
       "      <td>0</td>\n",
       "      <td>0</td>\n",
       "      <td>0</td>\n",
       "      <td>0</td>\n",
       "      <td>0</td>\n",
       "      <td>1</td>\n",
       "      <td>0</td>\n",
       "      <td>0</td>\n",
       "    </tr>\n",
       "  </tbody>\n",
       "</table>\n",
       "<p>5 rows × 44 columns</p>\n",
       "</div>"
      ],
      "text/plain": [
       "   enrollee_id      city  city_development_index  relevant_experience  \\\n",
       "0         8949  city_103                   0.920                    1   \n",
       "1        29725   city_40                   0.776                    0   \n",
       "2        11561   city_21                   0.624                    0   \n",
       "4          666  city_162                   0.767                    1   \n",
       "5        21651  city_176                   0.764                    1   \n",
       "\n",
       "   experience  training_hours  target  gender_Male  gender_Other  \\\n",
       "0          21              36     1.0            1             0   \n",
       "1          15              47     0.0            1             0   \n",
       "2           5              83     0.0            1             0   \n",
       "4          21               8     0.0            1             0   \n",
       "5          11              24     1.0            1             0   \n",
       "\n",
       "   enrolled_university_Part_time_course  ...  new_experience_senior  \\\n",
       "0                                     0  ...                      0   \n",
       "1                                     0  ...                      0   \n",
       "2                                     0  ...                      0   \n",
       "4                                     0  ...                      0   \n",
       "5                                     1  ...                      1   \n",
       "\n",
       "   last_new_job_1  last_new_job_2  last_new_job_3  last_new_job_4  \\\n",
       "0               1               0               0               0   \n",
       "1               0               0               0               0   \n",
       "2               0               0               0               0   \n",
       "4               0               0               0               1   \n",
       "5               1               0               0               0   \n",
       "\n",
       "   last_new_job_5  new_small_enterprises_1  new_medium_enterprises_1  \\\n",
       "0               0                        0                         1   \n",
       "1               1                        0                         1   \n",
       "2               0                        0                         1   \n",
       "4               0                        0                         1   \n",
       "5               0                        0                         1   \n",
       "\n",
       "   new_large_enterprises_1  new_holding_enterprises_1  \n",
       "0                        0                          0  \n",
       "1                        0                          0  \n",
       "2                        0                          0  \n",
       "4                        0                          0  \n",
       "5                        0                          0  \n",
       "\n",
       "[5 rows x 44 columns]"
      ]
     },
     "execution_count": 51,
     "metadata": {},
     "output_type": "execute_result"
    }
   ],
   "source": [
    "df.head()"
   ]
  },
  {
   "cell_type": "markdown",
   "id": "a56194bc-275c-443e-9820-319bddda55f7",
   "metadata": {},
   "source": [
    "#### MODELLING"
   ]
  },
  {
   "cell_type": "code",
   "execution_count": 52,
   "id": "0a3738ed-1eae-4b7d-b3f4-6ba4071b7d8e",
   "metadata": {},
   "outputs": [],
   "source": [
    "#Base model"
   ]
  },
  {
   "cell_type": "code",
   "execution_count": 53,
   "id": "30f57cfa-a157-4697-bf78-dd7dcb6be16f",
   "metadata": {},
   "outputs": [],
   "source": [
    "y = df[\"target\"]\n",
    "X = df.drop([\"target\",\"enrollee_id\",\"city\"], axis=1)"
   ]
  },
  {
   "cell_type": "code",
   "execution_count": 54,
   "id": "6d7d7022-5ffd-4e2b-910c-fed9509391e2",
   "metadata": {},
   "outputs": [],
   "source": [
    "def base_models(X, y, scoring=\"roc_auc\"):\n",
    "    print(\"Base Models....\")\n",
    "    classifiers = [('LR', LogisticRegression()),\n",
    "                   ('KNN', KNeighborsClassifier()),\n",
    "                   (\"SVC\", SVC()),\n",
    "                   (\"CART\", DecisionTreeClassifier()),\n",
    "                   (\"RF\", RandomForestClassifier()),\n",
    "                   ('Adaboost', AdaBoostClassifier()),\n",
    "                   ('GBM', GradientBoostingClassifier()),\n",
    "                   ('XGBoost', XGBClassifier(use_label_encoder=False, eval_metric='logloss')),\n",
    "                   ('LightGBM', LGBMClassifier()),\n",
    "                   # ('CatBoost', CatBoostClassifier(verbose=False))\n",
    "                   ]\n",
    "\n",
    "    for name, classifier in classifiers:\n",
    "        cv_results = cross_validate(classifier, X, y, cv=3, scoring=scoring)\n",
    "        print(f\"{scoring}: {round(cv_results['test_score'].mean(), 4)} ({name}) \")"
   ]
  },
  {
   "cell_type": "code",
   "execution_count": 55,
   "id": "56a1f8b3-80ad-4c56-9cbe-e120b34461d7",
   "metadata": {
    "tags": []
   },
   "outputs": [
    {
     "name": "stdout",
     "output_type": "stream",
     "text": [
      "Base Models....\n"
     ]
    },
    {
     "name": "stderr",
     "output_type": "stream",
     "text": [
      "C:\\Users\\muhammedhanbaba\\anaconda3\\lib\\site-packages\\sklearn\\linear_model\\_logistic.py:763: ConvergenceWarning: lbfgs failed to converge (status=1):\n",
      "STOP: TOTAL NO. of ITERATIONS REACHED LIMIT.\n",
      "\n",
      "Increase the number of iterations (max_iter) or scale the data as shown in:\n",
      "    https://scikit-learn.org/stable/modules/preprocessing.html\n",
      "Please also refer to the documentation for alternative solver options:\n",
      "    https://scikit-learn.org/stable/modules/linear_model.html#logistic-regression\n",
      "  n_iter_i = _check_optimize_result(\n",
      "C:\\Users\\muhammedhanbaba\\anaconda3\\lib\\site-packages\\sklearn\\linear_model\\_logistic.py:763: ConvergenceWarning: lbfgs failed to converge (status=1):\n",
      "STOP: TOTAL NO. of ITERATIONS REACHED LIMIT.\n",
      "\n",
      "Increase the number of iterations (max_iter) or scale the data as shown in:\n",
      "    https://scikit-learn.org/stable/modules/preprocessing.html\n",
      "Please also refer to the documentation for alternative solver options:\n",
      "    https://scikit-learn.org/stable/modules/linear_model.html#logistic-regression\n",
      "  n_iter_i = _check_optimize_result(\n",
      "C:\\Users\\muhammedhanbaba\\anaconda3\\lib\\site-packages\\sklearn\\linear_model\\_logistic.py:763: ConvergenceWarning: lbfgs failed to converge (status=1):\n",
      "STOP: TOTAL NO. of ITERATIONS REACHED LIMIT.\n",
      "\n",
      "Increase the number of iterations (max_iter) or scale the data as shown in:\n",
      "    https://scikit-learn.org/stable/modules/preprocessing.html\n",
      "Please also refer to the documentation for alternative solver options:\n",
      "    https://scikit-learn.org/stable/modules/linear_model.html#logistic-regression\n",
      "  n_iter_i = _check_optimize_result(\n"
     ]
    },
    {
     "name": "stdout",
     "output_type": "stream",
     "text": [
      "accuracy: 0.7706 (LR) \n",
      "accuracy: 0.7198 (KNN) \n",
      "accuracy: 0.7546 (SVC) \n",
      "accuracy: 0.7058 (CART) \n",
      "accuracy: 0.7683 (RF) \n",
      "accuracy: 0.7773 (Adaboost) \n",
      "accuracy: 0.7846 (GBM) \n",
      "accuracy: 0.7731 (XGBoost) \n",
      "accuracy: 0.7828 (LightGBM) \n"
     ]
    }
   ],
   "source": [
    "base_models(X, y,\"accuracy\")"
   ]
  },
  {
   "cell_type": "markdown",
   "id": "3182c642-7f40-4fb0-8e3b-05f18969526f",
   "metadata": {},
   "source": [
    "#### Automated Hyperparameter Optimization"
   ]
  },
  {
   "cell_type": "code",
   "execution_count": 56,
   "id": "ca7b198b-9310-4d9c-8417-271741c66a14",
   "metadata": {},
   "outputs": [],
   "source": [
    "knn_params = {\"n_neighbors\": range(2, 50)}\n",
    "\n",
    "cart_params = {'max_depth': range(1, 20),\n",
    "               \"min_samples_split\": range(2, 30)}\n",
    "\n",
    "rf_params = {\"max_depth\": [8, 15, None],\n",
    "             \"max_features\": [5, 7, \"auto\"],\n",
    "             \"min_samples_split\": [15, 20],\n",
    "             \"n_estimators\": [200, 300]}\n",
    "\n",
    "xgboost_params = {\"learning_rate\": [0.1, 0.01],\n",
    "                  \"max_depth\": [5, 8],\n",
    "                  \"n_estimators\": [100, 200]}\n",
    "\n",
    "lightgbm_params = {\"learning_rate\": [0.01, 0.1],\n",
    "                   \"n_estimators\": [300, 500]}\n",
    "\n",
    "\n",
    "classifiers = [('KNN', KNeighborsClassifier(), knn_params),\n",
    "               (\"CART\", DecisionTreeClassifier(), cart_params),\n",
    "               (\"RF\", RandomForestClassifier(), rf_params),\n",
    "               ('XGBoost', XGBClassifier(use_label_encoder=False, eval_metric='logloss'), xgboost_params),\n",
    "               ('LightGBM', LGBMClassifier(), lightgbm_params)]"
   ]
  },
  {
   "cell_type": "code",
   "execution_count": 57,
   "id": "ef6ce3cf-d9fe-454f-94f3-d41ce740c32d",
   "metadata": {},
   "outputs": [],
   "source": [
    "def hyperparameter_optimization(X, y, cv=3, scoring=\"accuracy\"):\n",
    "    print(\"Hyperparameter Optimization....\")\n",
    "    best_models = {}\n",
    "    for name, classifier, params in classifiers:\n",
    "        print(f\"########## {name} ##########\")\n",
    "        cv_results = cross_validate(classifier, X, y, cv=cv, scoring=scoring)\n",
    "        print(f\"{scoring} (Before): {round(cv_results['test_score'].mean(), 4)}\")\n",
    "\n",
    "        gs_best = GridSearchCV(classifier, params, cv=cv, n_jobs=-1, verbose=False).fit(X, y)\n",
    "        final_model = classifier.set_params(**gs_best.best_params_)\n",
    "\n",
    "        cv_results = cross_validate(final_model, X, y, cv=cv, scoring=scoring)\n",
    "        print(f\"{scoring} (After): {round(cv_results['test_score'].mean(), 4)}\")\n",
    "        print(f\"{name} best params: {gs_best.best_params_}\", end=\"\\n\\n\")\n",
    "        best_models[name] = final_model\n",
    "    return best_models"
   ]
  },
  {
   "cell_type": "code",
   "execution_count": 58,
   "id": "3b4bcf11-5b1a-4eb7-b45a-a38ea11ba626",
   "metadata": {
    "tags": []
   },
   "outputs": [
    {
     "name": "stdout",
     "output_type": "stream",
     "text": [
      "Hyperparameter Optimization....\n",
      "########## KNN ##########\n",
      "accuracy (Before): 0.7198\n",
      "accuracy (After): 0.7546\n",
      "KNN best params: {'n_neighbors': 48}\n",
      "\n",
      "########## CART ##########\n",
      "accuracy (Before): 0.7052\n",
      "accuracy (After): 0.7845\n",
      "CART best params: {'max_depth': 5, 'min_samples_split': 13}\n",
      "\n",
      "########## RF ##########\n",
      "accuracy (Before): 0.7703\n",
      "accuracy (After): 0.7813\n",
      "RF best params: {'max_depth': 15, 'max_features': 7, 'min_samples_split': 15, 'n_estimators': 200}\n",
      "\n",
      "########## XGBoost ##########\n",
      "accuracy (Before): 0.7731\n",
      "accuracy (After): 0.7857\n",
      "XGBoost best params: {'learning_rate': 0.01, 'max_depth': 8, 'n_estimators': 200}\n",
      "\n",
      "########## LightGBM ##########\n",
      "accuracy (Before): 0.7828\n",
      "accuracy (After): 0.7882\n",
      "LightGBM best params: {'learning_rate': 0.01, 'n_estimators': 300}\n",
      "\n"
     ]
    }
   ],
   "source": [
    "best_models = hyperparameter_optimization(X, y)"
   ]
  },
  {
   "cell_type": "code",
   "execution_count": 84,
   "id": "667ac8e0-d67d-4c1a-9edf-70fd5b0d7488",
   "metadata": {},
   "outputs": [],
   "source": [
    "gbm_model=GradientBoostingClassifier()"
   ]
  },
  {
   "cell_type": "code",
   "execution_count": 107,
   "id": "472b7df7-0c56-4e82-a82a-7ccffaa8ff49",
   "metadata": {},
   "outputs": [],
   "source": [
    "gbm_params = {\"learning_rate\": [0.01,0.03, 0.05,],\n",
    "              \"max_depth\": [3, 5, 10],\n",
    "              \"n_estimators\": [450, 500, 550],\n",
    "              \"subsample\": [1, 0.7]}"
   ]
  },
  {
   "cell_type": "code",
   "execution_count": 108,
   "id": "a26c8a1c-d94d-4157-87ec-b845ea93fe12",
   "metadata": {},
   "outputs": [
    {
     "name": "stdout",
     "output_type": "stream",
     "text": [
      "Fitting 5 folds for each of 54 candidates, totalling 270 fits\n"
     ]
    }
   ],
   "source": [
    "gbm_best_grid = GridSearchCV(gbm_model, gbm_params, cv=5, n_jobs=-1, verbose=True).fit(X, y)"
   ]
  },
  {
   "cell_type": "code",
   "execution_count": 109,
   "id": "567a75aa-9cfc-4c59-aab9-163d67916ebd",
   "metadata": {},
   "outputs": [
    {
     "data": {
      "text/plain": [
       "{'learning_rate': 0.01, 'max_depth': 5, 'n_estimators': 500}"
      ]
     },
     "execution_count": 109,
     "metadata": {},
     "output_type": "execute_result"
    }
   ],
   "source": [
    "gbm_best.best_params_"
   ]
  },
  {
   "cell_type": "markdown",
   "id": "ee1becc9-73a0-4920-b283-ac023b67ebf4",
   "metadata": {},
   "source": [
    "#### Final Model"
   ]
  },
  {
   "cell_type": "code",
   "execution_count": 110,
   "id": "423023b5-8803-4c50-be6b-88a8c4bb94d6",
   "metadata": {},
   "outputs": [],
   "source": [
    "gbm_final=gbm_model.set_params(**gbm_best.best_params_).fit(X,y)"
   ]
  },
  {
   "cell_type": "code",
   "execution_count": 111,
   "id": "add76b87-897d-428d-902c-bec478069aff",
   "metadata": {},
   "outputs": [],
   "source": [
    "cv_results=cross_validate(gbm_final,\n",
    "                            X, y,\n",
    "                            cv=5,\n",
    "                            scoring=[\"accuracy\", \"f1\", \"roc_auc\"])"
   ]
  },
  {
   "cell_type": "code",
   "execution_count": 112,
   "id": "8c7de971-0903-4598-aa88-5ae780bca267",
   "metadata": {},
   "outputs": [
    {
     "data": {
      "text/plain": [
       "0.7873874769359792"
      ]
     },
     "execution_count": 112,
     "metadata": {},
     "output_type": "execute_result"
    }
   ],
   "source": [
    "cv_results['test_accuracy'].mean()"
   ]
  },
  {
   "cell_type": "code",
   "execution_count": 113,
   "id": "74ae26d0-e8f3-42eb-aa16-5d10e412c654",
   "metadata": {},
   "outputs": [
    {
     "data": {
      "text/plain": [
       "0.5028472371772446"
      ]
     },
     "execution_count": 113,
     "metadata": {},
     "output_type": "execute_result"
    }
   ],
   "source": [
    "cv_results['test_f1'].mean()"
   ]
  },
  {
   "cell_type": "code",
   "execution_count": 115,
   "id": "dfaf9ad4-49e3-4439-9fb7-a4cfff075be1",
   "metadata": {},
   "outputs": [
    {
     "data": {
      "text/plain": [
       "0.7904176433353112"
      ]
     },
     "execution_count": 115,
     "metadata": {},
     "output_type": "execute_result"
    }
   ],
   "source": [
    "cv_results['test_roc_auc'].mean()"
   ]
  }
 ],
 "metadata": {
  "kernelspec": {
   "display_name": "Python 3 (ipykernel)",
   "language": "python",
   "name": "python3"
  },
  "language_info": {
   "codemirror_mode": {
    "name": "ipython",
    "version": 3
   },
   "file_extension": ".py",
   "mimetype": "text/x-python",
   "name": "python",
   "nbconvert_exporter": "python",
   "pygments_lexer": "ipython3",
   "version": "3.9.7"
  }
 },
 "nbformat": 4,
 "nbformat_minor": 5
}
